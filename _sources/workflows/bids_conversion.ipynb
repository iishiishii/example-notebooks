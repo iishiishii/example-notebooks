{
 "cells": [
  {
   "cell_type": "markdown",
   "metadata": {},
   "source": [
    "\n",
    "<a href=\"https://colab.research.google.com/github/NeuroDesk/example-notebooks/blob/main/bids_conversion.ipynb\" target=\"_parent\"><img src=\"https://colab.research.google.com/assets/colab-badge.svg\" alt=\"Open In Google Colab\"/>   </a>"
   ]
  },
  {
   "cell_type": "markdown",
   "metadata": {},
   "source": [
    "# BIDS\n",
    "\n",
    "Author: Thuy Dao\n",
    "\n",
    "Citation:\n",
    "- dcm2niix: https://github.com/rordenlab/dcm2niix/\n",
    "- bidscoin: https://doi.org/10.3389/fninf.2021.770608\n",
    "- heudiconv: https://doi.org/10.5281/zenodo.1012598"
   ]
  },
  {
   "cell_type": "markdown",
   "metadata": {},
   "source": [
    "## Setup Neurodesk"
   ]
  },
  {
   "cell_type": "code",
   "execution_count": 1,
   "metadata": {
    "vscode": {
     "languageId": "plaintext"
    }
   },
   "outputs": [],
   "source": [
    "%%capture\n",
    "import os\n",
    "import sys\n",
    "IN_COLAB = 'google.colab' in sys.modules\n",
    "\n",
    "if IN_COLAB:\n",
    "  os.environ[\"LD_PRELOAD\"] = \"\";\n",
    "  os.environ[\"APPTAINER_BINDPATH\"] = \"/content,/tmp,/cvmfs\"\n",
    "  os.environ[\"MPLCONFIGDIR\"] = \"/content/matplotlib-mpldir\"\n",
    "  os.environ[\"LMOD_CMD\"] = \"/usr/share/lmod/lmod/libexec/lmod\"\n",
    "\n",
    "  !curl -J -O https://raw.githubusercontent.com/NeuroDesk/neurocommand/main/googlecolab_setup.sh\n",
    "  !chmod +x googlecolab_setup.sh\n",
    "  !./googlecolab_setup.sh\n",
    "\n",
    "  os.environ[\"MODULEPATH\"] = ':'.join(map(str, list(map(lambda x: os.path.join(os.path.abspath('/cvmfs/neurodesk.ardc.edu.au/neurodesk-modules/'), x),os.listdir('/cvmfs/neurodesk.ardc.edu.au/neurodesk-modules/')))))"
   ]
  },
  {
   "cell_type": "code",
   "execution_count": 2,
   "metadata": {
    "tags": []
   },
   "outputs": [
    {
     "name": "stdout",
     "output_type": "stream",
     "text": [
      "vendor_id\t: AuthenticAMD\n",
      "model name\t: AMD EPYC 7742 64-Core Processor\n"
     ]
    }
   ],
   "source": [
    "# Output CPU information:\n",
    "!cat /proc/cpuinfo | grep 'vendor' | uniq\n",
    "!cat /proc/cpuinfo | grep 'model name' | uniq"
   ]
  },
  {
   "cell_type": "markdown",
   "metadata": {},
   "source": [
    "## Data preparation\n",
    "\n",
    "Download DICOM data from OSF"
   ]
  },
  {
   "cell_type": "code",
   "execution_count": 17,
   "metadata": {
    "vscode": {
     "languageId": "plaintext"
    }
   },
   "outputs": [
    {
     "name": "stdout",
     "output_type": "stream",
     "text": [
      "Requirement already satisfied: osfclient in /opt/conda/lib/python3.11/site-packages (0.0.5)\n",
      "Requirement already satisfied: requests in /opt/conda/lib/python3.11/site-packages (from osfclient) (2.31.0)\n",
      "Requirement already satisfied: tqdm in /opt/conda/lib/python3.11/site-packages (from osfclient) (4.66.1)\n",
      "Requirement already satisfied: six in /opt/conda/lib/python3.11/site-packages (from osfclient) (1.16.0)\n",
      "Requirement already satisfied: charset-normalizer<4,>=2 in /opt/conda/lib/python3.11/site-packages (from requests->osfclient) (3.3.0)\n",
      "Requirement already satisfied: idna<4,>=2.5 in /opt/conda/lib/python3.11/site-packages (from requests->osfclient) (3.4)\n",
      "Requirement already satisfied: urllib3<3,>=1.21.1 in /opt/conda/lib/python3.11/site-packages (from requests->osfclient) (2.0.7)\n",
      "Requirement already satisfied: certifi>=2017.4.17 in /opt/conda/lib/python3.11/site-packages (from requests->osfclient) (2024.2.2)\n",
      "\u001b[01;34mdicoms-unsorted\u001b[0m\n",
      "├── \u001b[00mMR.1.1.dcm\u001b[0m\n",
      "├── \u001b[00mMR.1.10.dcm\u001b[0m\n",
      "├── \u001b[00mMR.1.100.dcm\u001b[0m\n",
      "├── \u001b[00mMR.1.101.dcm\u001b[0m\n",
      "├── \u001b[00mMR.1.102.dcm\u001b[0m\n",
      "├── \u001b[00mMR.1.103.dcm\u001b[0m\n",
      "├── \u001b[00mMR.1.104.dcm\u001b[0m\n",
      "├── \u001b[00mMR.1.105.dcm\u001b[0m\n",
      "├── \u001b[00mMR.1.106.dcm\u001b[0m\n",
      "...\n",
      "There are 1216 unsorted DICOMs in ./dicoms-unsorted/\n"
     ]
    }
   ],
   "source": [
    "!pip install osfclient\n",
    "!osf -p ru43c clone . > /dev/null 2>&1\n",
    "!tar xf osfstorage/dicoms-unsorted.tar\n",
    "!rm -rf osfstorage/\n",
    "!tree dicoms-unsorted | head\n",
    "!echo -e \"...\\nThere are `ls dicoms-unsorted | wc -l` unsorted DICOMs in ./dicoms-unsorted/\""
   ]
  },
  {
   "cell_type": "code",
   "execution_count": 13,
   "metadata": {
    "scrolled": true
   },
   "outputs": [
    {
     "name": "stdout",
     "output_type": "stream",
     "text": [
      "Cloning: 100%|██████████████████████| 2.00/2.00 [00:01<00:00, 1.46 candidates/s]\n",
      "Enumerating: 0.00 Objects [00:00, ? Objects/s]\u001b[A\n",
      "                                              \u001b[A\n",
      "Counting:   0%|                              | 0.00/25.9k [00:00<?, ? Objects/s]\u001b[A\n",
      "Counting:  39%|████████▌             | 10.1k/25.9k [00:00<00:00, 101k Objects/s]\u001b[A\n",
      "                                                                                \u001b[A\n",
      "Compressing:   0%|                           | 0.00/13.6k [00:00<?, ? Objects/s]\u001b[A\n",
      "Compressing:  61%|██████████▉       | 8.29k/13.6k [00:00<00:00, 75.9k Objects/s]\u001b[A\n",
      "                                                                                \u001b[A\n",
      "Receiving:   0%|                             | 0.00/25.9k [00:00<?, ? Objects/s]\u001b[A\n",
      "Receiving:   1%|▏                     | 259/25.9k [00:00<00:23, 1.10k Objects/s]\u001b[A\n",
      "Receiving:   3%|▋                     | 776/25.9k [00:00<00:09, 2.60k Objects/s]\u001b[A\n",
      "Receiving:   5%|█                   | 1.29k/25.9k [00:00<00:07, 3.36k Objects/s]\u001b[A\n",
      "Receiving:   8%|█▌                  | 2.07k/25.9k [00:00<00:05, 4.69k Objects/s]\u001b[A\n",
      "Receiving:  13%|██▌                 | 3.36k/25.9k [00:00<00:03, 7.00k Objects/s]\u001b[A\n",
      "Receiving:  19%|███▊                | 4.91k/25.9k [00:00<00:02, 9.27k Objects/s]\u001b[A\n",
      "Receiving:  28%|█████▌              | 7.24k/25.9k [00:00<00:01, 11.8k Objects/s]\u001b[A\n",
      "Receiving:  48%|█████████▌          | 12.4k/25.9k [00:01<00:00, 22.5k Objects/s]\u001b[A\n",
      "Receiving:  63%|████████████▌       | 16.3k/25.9k [00:02<00:01, 6.14k Objects/s]\u001b[A\n",
      "Receiving:  74%|██████████████▊     | 19.1k/25.9k [00:02<00:00, 7.99k Objects/s]\u001b[A\n",
      "Receiving:  92%|██████████████████▍ | 23.8k/25.9k [00:02<00:00, 12.0k Objects/s]\u001b[A\n",
      "                                                                                \u001b[A\n",
      "Resolving:   0%|                              | 0.00/6.87k [00:00<?, ? Deltas/s]\u001b[A\n",
      "Resolving:  34%|███████▏             | 2.33k/6.87k [00:00<00:00, 22.6k Deltas/s]\u001b[A\n",
      "Resolving:  67%|██████████████       | 4.60k/6.87k [00:00<00:00, 20.7k Deltas/s]\u001b[A\n",
      "Resolving: 100%|█████████████████████| 6.87k/6.87k [00:00<00:00, 21.4k Deltas/s]\u001b[A\n",
      "[INFO   ] scanning for unlocked files (this may take some time)                 \u001b[A\n",
      "\u001b[1;1minstall\u001b[0m(\u001b[1;32mok\u001b[0m): /data/books/workflows/heudiconv-tutorial-example (\u001b[1;35mdataset\u001b[0m)\n",
      "Total:   0%|                                   | 0.00/29.6M [00:00<?, ? Bytes/s]\n",
      "Get MRIS/dic .. 005-0001.dcm:   0%|             | 0.00/200k [00:00<?, ? Bytes/s]\u001b[A\n",
      "Total:   1%|▏                          | 200k/29.6M [00:20<49:00, 10.0k Bytes/s]\u001b[A\n",
      "Get MRIS/dic .. 005-0002.dcm:   0%|             | 0.00/200k [00:00<?, ? Bytes/s]\u001b[A\n",
      "Total:   1%|▎                          | 400k/29.6M [00:21<26:02, 18.7k Bytes/s]\u001b[A\n",
      "Get MRIS/dic .. 005-0003.dcm:   0%|             | 0.00/200k [00:00<?, ? Bytes/s]\u001b[A\n",
      "Total:   2%|▌                          | 601k/29.6M [00:23<19:17, 25.1k Bytes/s]\u001b[A\n",
      "Get MRIS/dic .. 005-0004.dcm:   0%|             | 0.00/200k [00:00<?, ? Bytes/s]\u001b[A\n",
      "Total:   3%|▋                          | 801k/29.6M [00:25<15:22, 31.2k Bytes/s]\u001b[A\n",
      "Get MRIS/dic .. 005-0005.dcm:   0%|             | 0.00/200k [00:00<?, ? Bytes/s]\u001b[A\n",
      "Total:   4%|█                         | 1.20M/29.6M [00:45<18:00, 26.3k Bytes/s]\u001b[A\n",
      "Get MRIS/dic .. 005-0007.dcm:   0%|             | 0.00/200k [00:00<?, ? Bytes/s]\u001b[A\n",
      "Total:   5%|█▏                        | 1.40M/29.6M [00:47<15:59, 29.4k Bytes/s]\u001b[A\n",
      "Get MRIS/dic .. 005-0008.dcm:   0%|             | 0.00/200k [00:00<?, ? Bytes/s]\u001b[A\n",
      "Total:   5%|█▍                        | 1.60M/29.6M [00:49<14:22, 32.5k Bytes/s]\u001b[A\n",
      "Get MRIS/dic .. 005-0009.dcm:   0%|             | 0.00/200k [00:00<?, ? Bytes/s]\u001b[A\n",
      "Total:   7%|█▊                        | 2.00M/29.6M [00:52<12:10, 37.8k Bytes/s]\u001b[A\n",
      "Get MRIS/dic .. 005-0011.dcm:   0%|             | 0.00/200k [00:00<?, ? Bytes/s]\u001b[A\n",
      "                                                                                \u001b[A\n",
      "Get MRIS/dic .. 005-0012.dcm:   0%|             | 0.00/200k [00:00<?, ? Bytes/s]\u001b[A\n",
      "Get MRIS/dic .. 005-0012.dcm:  40%|█▉   | 79.9k/200k [00:00<00:00, 160k Bytes/s]\u001b[A\n",
      "Total:   8%|██                        | 2.40M/29.6M [00:59<11:14, 40.4k Bytes/s]\u001b[A\n",
      "Get MRIS/dic .. 005-0013.dcm:   0%|             | 0.00/200k [00:00<?, ? Bytes/s]\u001b[A\n",
      "                                                                                \u001b[A\n",
      "Get MRIS/dic .. 005-0014.dcm:   0%|             | 0.00/200k [00:00<?, ? Bytes/s]\u001b[A\n",
      "                                                                                \u001b[A\n",
      "Get MRIS/dic .. 005-0015.dcm:   0%|             | 0.00/200k [00:00<?, ? Bytes/s]\u001b[A\n",
      "Total:  10%|██▋                       | 3.00M/29.6M [01:04<09:35, 46.3k Bytes/s]\u001b[A\n",
      "Get MRIS/dic .. 005-0016.dcm:   0%|             | 0.00/200k [00:00<?, ? Bytes/s]\u001b[A\n",
      "                                                                                \u001b[A\n",
      "Get MRIS/dic .. 005-0017.dcm:   0%|             | 0.00/200k [00:00<?, ? Bytes/s]\u001b[A\n",
      "                                                                                \u001b[A\n",
      "Get MRIS/dic .. 005-0018.dcm:   0%|             | 0.00/200k [00:00<?, ? Bytes/s]\u001b[A\n",
      "                                                                                \u001b[A\n",
      "Get MRIS/dic .. 005-0019.dcm:   0%|             | 0.00/200k [00:00<?, ? Bytes/s]\u001b[A\n",
      "Total:  13%|███▎                      | 3.80M/29.6M [01:11<08:08, 52.9k Bytes/s]\u001b[A\n",
      "Get MRIS/dic .. 005-0021.dcm:   0%|             | 0.00/200k [00:00<?, ? Bytes/s]\u001b[A\n",
      "                                                                                \u001b[A\n",
      "Get MRIS/dic .. 005-0022.dcm:   0%|             | 0.00/200k [00:00<?, ? Bytes/s]\u001b[A\n",
      "                                                                                \u001b[A\n",
      "Get MRIS/dic .. 005-0023.dcm:   0%|             | 0.00/200k [00:00<?, ? Bytes/s]\u001b[A\n",
      "                                                                                \u001b[A\n",
      "Get MRIS/dic .. 005-0024.dcm:   0%|             | 0.00/200k [00:00<?, ? Bytes/s]\u001b[A\n",
      "Total:  16%|████▏                     | 4.80M/29.6M [01:21<07:00, 59.1k Bytes/s]\u001b[A\n",
      "Get MRIS/dic .. 005-0025.dcm:   0%|             | 0.00/200k [00:00<?, ? Bytes/s]\u001b[A\n",
      "                                                                                \u001b[A\n",
      "Get MRIS/dic .. 005-0027.dcm:   0%|             | 0.00/200k [00:00<?, ? Bytes/s]\u001b[A\n",
      "                                                                                \u001b[A\n",
      "Get MRIS/dic .. 005-0029.dcm:   0%|             | 0.00/200k [00:00<?, ? Bytes/s]\u001b[A\n",
      "                                                                                \u001b[A\n",
      "Get MRIS/dic .. 005-0030.dcm:   0%|             | 0.00/200k [00:00<?, ? Bytes/s]\u001b[A\n",
      "Total:  20%|█████▎                    | 6.01M/29.6M [01:35<06:15, 62.9k Bytes/s]\u001b[A\n",
      "Get MRIS/dic .. 005-0031.dcm:   0%|             | 0.00/200k [00:00<?, ? Bytes/s]\u001b[A\n",
      "Total:  21%|█████▍                    | 6.21M/29.6M [01:37<06:07, 63.8k Bytes/s]\u001b[A\n",
      "Get MRIS/dic .. 005-0032.dcm:   0%|             | 0.00/200k [00:00<?, ? Bytes/s]\u001b[A\n",
      "Total:  22%|█████▊                    | 6.61M/29.6M [01:41<05:53, 65.1k Bytes/s]\u001b[A\n",
      "Get MRIS/dic .. 005-0034.dcm:   0%|             | 0.00/200k [00:00<?, ? Bytes/s]\u001b[A\n",
      "Total:  23%|█████▉                    | 6.81M/29.6M [01:43<05:45, 66.0k Bytes/s]\u001b[A\n",
      "Get MRIS/dic .. 005-0035.dcm:   0%|             | 0.00/200k [00:00<?, ? Bytes/s]\u001b[A\n",
      "                                                                                \u001b[A\n",
      "Get MRIS/dic .. 005-0036.dcm:   0%|             | 0.00/200k [00:00<?, ? Bytes/s]\u001b[A\n",
      "Total:  25%|██████▍                   | 7.41M/29.6M [02:00<06:00, 61.7k Bytes/s]\u001b[A\n",
      "Get MRIS/dic .. 005-0038.dcm:   0%|             | 0.00/200k [00:00<?, ? Bytes/s]\u001b[A\n",
      "Total:  26%|██████▋                   | 7.61M/29.6M [02:02<05:54, 62.1k Bytes/s]\u001b[A\n",
      "Get MRIS/dic .. 005-0039.dcm:   0%|             | 0.00/200k [00:00<?, ? Bytes/s]\u001b[A\n",
      "Total:  26%|██████▊                   | 7.81M/29.6M [02:05<05:49, 62.4k Bytes/s]\u001b[A\n",
      "Get MRIS/dic .. 005-0040.dcm:   0%|             | 0.00/200k [00:00<?, ? Bytes/s]\u001b[A\n",
      "Total:  27%|███████                   | 8.01M/29.6M [02:06<05:42, 63.1k Bytes/s]\u001b[A\n",
      "Get MRIS/dic .. 005-0041.dcm:   0%|             | 0.00/200k [00:00<?, ? Bytes/s]\u001b[A\n",
      "Total:  28%|███████▍                  | 8.41M/29.6M [02:18<05:50, 60.5k Bytes/s]\u001b[A\n",
      "Get MRIS/dic .. 005-0043.dcm:   0%|             | 0.00/200k [00:00<?, ? Bytes/s]\u001b[A\n",
      "Total:  29%|███████▌                  | 8.61M/29.6M [02:21<05:45, 60.9k Bytes/s]\u001b[A\n",
      "Get MRIS/dic .. 005-0044.dcm:   0%|             | 0.00/200k [00:00<?, ? Bytes/s]\u001b[A\n",
      "Total:  30%|███████▋                  | 8.81M/29.6M [02:23<05:38, 61.5k Bytes/s]\u001b[A\n",
      "Get MRIS/dic .. 005-0046.dcm:   0%|             | 0.00/200k [00:00<?, ? Bytes/s]\u001b[A\n",
      "Total:  31%|████████                  | 9.21M/29.6M [02:30<05:32, 61.3k Bytes/s]\u001b[A\n",
      "Get MRIS/dic .. 005-0047.dcm:   0%|             | 0.00/200k [00:00<?, ? Bytes/s]\u001b[A\n",
      "                                                                                \u001b[A\n",
      "Get MRIS/dic .. 005-0048.dcm:   0%|             | 0.00/200k [00:00<?, ? Bytes/s]\u001b[A\n",
      "Total:  32%|████████▍                 | 9.61M/29.6M [02:34<05:21, 62.3k Bytes/s]\u001b[A\n",
      "Get MRIS/dic .. 005-0049.dcm:   0%|             | 0.00/200k [00:00<?, ? Bytes/s]\u001b[A\n",
      "                                                                                \u001b[A\n",
      "Get MRIS/dic .. 005-0050.dcm:   0%|             | 0.00/200k [00:00<?, ? Bytes/s]\u001b[A\n",
      "Total:  34%|████████▊                 | 10.0M/29.6M [02:38<05:10, 63.1k Bytes/s]\u001b[A\n",
      "Get MRIS/dic .. 005-0051.dcm:   0%|             | 0.00/200k [00:00<?, ? Bytes/s]\u001b[A\n",
      "                                                                                \u001b[A\n",
      "Get MRIS/dic .. 005-0052.dcm:   0%|             | 0.00/200k [00:00<?, ? Bytes/s]\u001b[A\n",
      "                                                                                \u001b[A\n",
      "Get MRIS/dic .. 005-0053.dcm:   0%|             | 0.00/200k [00:00<?, ? Bytes/s]\u001b[A\n",
      "Total:  36%|█████████▎                | 10.6M/29.6M [02:43<04:53, 64.8k Bytes/s]\u001b[A\n",
      "Get MRIS/dic .. 005-0054.dcm:   0%|             | 0.00/200k [00:00<?, ? Bytes/s]\u001b[A\n",
      "                                                                                \u001b[A\n",
      "Get MRIS/dic .. 005-0055.dcm:   0%|             | 0.00/200k [00:00<?, ? Bytes/s]\u001b[A\n",
      "                                                                                \u001b[A\n",
      "Get MRIS/dic .. 005-0056.dcm:   0%|             | 0.00/200k [00:00<?, ? Bytes/s]\u001b[A\n",
      "Total:  38%|█████████▊                | 11.2M/29.6M [02:49<04:39, 66.0k Bytes/s]\u001b[A\n",
      "Get MRIS/dic .. 005-0057.dcm:   0%|             | 0.00/200k [00:00<?, ? Bytes/s]\u001b[A\n",
      "                                                                                \u001b[A\n",
      "Get MRIS/dic .. 005-0058.dcm:   0%|             | 0.00/200k [00:00<?, ? Bytes/s]\u001b[A\n",
      "                                                                                \u001b[A\n",
      "Get MRIS/dic .. 005-0059.dcm:   0%|             | 0.00/200k [00:00<?, ? Bytes/s]\u001b[A\n",
      "Total:  41%|██████████▌               | 12.0M/29.6M [03:10<04:38, 63.2k Bytes/s]\u001b[A\n",
      "Get MRIS/dic .. 005-0061.dcm:   0%|             | 0.00/200k [00:00<?, ? Bytes/s]\u001b[A\n",
      "Total:  41%|██████████▋               | 12.2M/29.6M [03:10<04:31, 64.1k Bytes/s]\u001b[A\n",
      "Get MRIS/dic .. 005-0062.dcm:   0%|             | 0.00/200k [00:00<?, ? Bytes/s]\u001b[A\n",
      "Total:  42%|██████████▉               | 12.4M/29.6M [03:12<04:26, 64.5k Bytes/s]\u001b[A\n",
      "Get MRIS/dic .. 005-0063.dcm:   0%|             | 0.00/200k [00:00<?, ? Bytes/s]\u001b[A\n",
      "Total:  43%|███████████               | 12.6M/29.6M [03:14<04:21, 65.0k Bytes/s]\u001b[A\n",
      "Get MRIS/dic .. 005-0064.dcm:   0%|             | 0.00/200k [00:00<?, ? Bytes/s]\u001b[A\n",
      "                                                                                \u001b[A\n",
      "Get MRIS/dic .. 005-0065.dcm:   0%|             | 0.00/200k [00:00<?, ? Bytes/s]\u001b[A\n",
      "Total:  44%|███████████▍              | 13.0M/29.6M [03:18<04:13, 65.6k Bytes/s]\u001b[A\n",
      "Get MRIS/dic .. 005-0066.dcm:   0%|             | 0.00/200k [00:00<?, ? Bytes/s]\u001b[A\n",
      "                                                                                \u001b[A\n",
      "Get MRIS/dic .. 005-0067.dcm:   0%|             | 0.00/200k [00:00<?, ? Bytes/s]\u001b[A\n",
      "Total:  45%|███████████▊              | 13.4M/29.6M [03:21<04:03, 66.5k Bytes/s]\u001b[A\n",
      "Get MRIS/dic .. 005-0069.dcm:   0%|             | 0.00/200k [00:00<?, ? Bytes/s]\u001b[A\n",
      "                                                                                \u001b[A\n",
      "Get MRIS/dic .. 005-0070.dcm:   0%|             | 0.00/200k [00:00<?, ? Bytes/s]\u001b[A\n",
      "Total:  47%|████████████▎             | 14.0M/29.6M [03:39<04:04, 63.8k Bytes/s]\u001b[A\n",
      "Get MRIS/dic .. 005-0071.dcm:   0%|             | 0.00/200k [00:00<?, ? Bytes/s]\u001b[A\n",
      "Total:  48%|████████████▍             | 14.2M/29.6M [03:42<04:01, 63.9k Bytes/s]\u001b[A\n",
      "Get MRIS/dic .. 005-0072.dcm:   0%|             | 0.00/200k [00:00<?, ? Bytes/s]\u001b[A\n",
      "                                                                                \u001b[A\n",
      "Get MRIS/dic .. 005-0073.dcm:   0%|             | 0.00/200k [00:00<?, ? Bytes/s]\u001b[A\n",
      "Total:  49%|████████████▊             | 14.6M/29.6M [03:46<03:52, 64.5k Bytes/s]\u001b[A\n",
      "Get MRIS/dic .. 005-0075.dcm:   0%|             | 0.00/200k [00:00<?, ? Bytes/s]\u001b[A\n",
      "Total:  51%|█████████████▏            | 15.0M/29.6M [03:53<03:47, 64.3k Bytes/s]\u001b[A\n",
      "Get MRIS/dic .. 005-0076.dcm:   0%|             | 0.00/200k [00:00<?, ? Bytes/s]\u001b[A\n",
      "                                                                                \u001b[A\n",
      "Get MRIS/dic .. 005-0077.dcm:   0%|             | 0.00/200k [00:00<?, ? Bytes/s]\u001b[A\n",
      "                                                                                \u001b[A\n",
      "Get MRIS/dic .. 005-0078.dcm:   0%|             | 0.00/200k [00:00<?, ? Bytes/s]\u001b[A\n",
      "Total:  53%|█████████████▋            | 15.6M/29.6M [04:08<03:42, 63.0k Bytes/s]\u001b[A\n",
      "Get MRIS/dic .. 005-0079.dcm:   0%|             | 0.00/200k [00:00<?, ? Bytes/s]\u001b[A\n",
      "Total:  53%|█████████████▉            | 15.8M/29.6M [04:10<03:38, 63.2k Bytes/s]\u001b[A\n",
      "Get MRIS/dic .. 005-0080.dcm:   0%|             | 0.00/200k [00:00<?, ? Bytes/s]\u001b[A\n",
      "Total:  54%|██████████████            | 16.0M/29.6M [04:12<03:34, 63.5k Bytes/s]\u001b[A\n",
      "Get MRIS/dic .. 005-0081.dcm:   0%|             | 0.00/200k [00:00<?, ? Bytes/s]\u001b[A\n",
      "Total:  55%|██████████████▏           | 16.2M/29.6M [04:14<03:30, 63.6k Bytes/s]\u001b[A\n",
      "Get MRIS/dic .. 005-0082.dcm:   0%|             | 0.00/200k [00:00<?, ? Bytes/s]\u001b[A\n",
      "Total:  55%|██████████████▍           | 16.4M/29.6M [04:16<03:26, 64.0k Bytes/s]\u001b[A\n",
      "Get MRIS/dic .. 005-0083.dcm:   0%|             | 0.00/200k [00:00<?, ? Bytes/s]\u001b[A\n",
      "Total:  56%|██████████████▌           | 16.6M/29.6M [04:18<03:22, 64.3k Bytes/s]\u001b[A\n",
      "Get MRIS/dic .. 005-0084.dcm:   0%|             | 0.00/200k [00:00<?, ? Bytes/s]\u001b[A\n",
      "Total:  57%|██████████████▊           | 16.8M/29.6M [04:20<03:18, 64.6k Bytes/s]\u001b[A\n",
      "Get MRIS/dic .. 005-0085.dcm:   0%|             | 0.00/200k [00:00<?, ? Bytes/s]\u001b[A\n",
      "Total:  57%|██████████████▉           | 17.0M/29.6M [04:22<03:14, 64.8k Bytes/s]\u001b[A\n",
      "Get MRIS/dic .. 005-0086.dcm:   0%|             | 0.00/200k [00:00<?, ? Bytes/s]\u001b[A\n",
      "Total:  59%|███████████████▎          | 17.4M/29.6M [04:26<03:07, 65.3k Bytes/s]\u001b[A\n",
      "Get MRIS/dic .. 005-0088.dcm:   0%|             | 0.00/200k [00:00<?, ? Bytes/s]\u001b[A\n",
      "Total:  60%|███████████████▋          | 17.8M/29.6M [04:31<03:00, 65.5k Bytes/s]\u001b[A\n",
      "Get MRIS/dic .. 005-0090.dcm:   0%|             | 0.00/200k [00:00<?, ? Bytes/s]\u001b[A\n",
      "Get MRIS/dic .. 005-0090.dcm:  92%|█████▌| 184k/200k [00:00<00:00, 366k Bytes/s]\u001b[A\n",
      "                                                                                \u001b[A\n",
      "Get MRIS/dic .. 005-0091.dcm:   0%|             | 0.00/200k [00:00<?, ? Bytes/s]\u001b[A\n",
      "Total:  61%|███████████████▉          | 18.2M/29.6M [04:36<02:53, 65.8k Bytes/s]\u001b[A\n",
      "Get MRIS/dic .. 005-0092.dcm:   0%|             | 0.00/200k [00:00<?, ? Bytes/s]\u001b[A\n",
      "                                                                                \u001b[A\n",
      "Get MRIS/dic .. 005-0093.dcm:   0%|             | 0.00/200k [00:00<?, ? Bytes/s]\u001b[A\n",
      "                                                                                \u001b[A\n",
      "Get MRIS/dic .. 005-0094.dcm:   0%|             | 0.00/200k [00:00<?, ? Bytes/s]\u001b[A\n",
      "Total:  64%|████████████████▌         | 18.8M/29.6M [04:41<02:41, 66.8k Bytes/s]\u001b[A\n",
      "Get MRIS/dic .. 005-0095.dcm:   0%|             | 0.00/200k [00:00<?, ? Bytes/s]\u001b[A\n",
      "Total:  65%|████████████████▊         | 19.2M/29.6M [05:00<02:42, 64.1k Bytes/s]\u001b[A\n",
      "Get MRIS/dic .. 005-0097.dcm:   0%|             | 0.00/200k [00:00<?, ? Bytes/s]\u001b[A\n",
      "Total:  66%|█████████████████         | 19.4M/29.6M [05:02<02:39, 64.1k Bytes/s]\u001b[A\n",
      "Get MRIS/dic .. 005-0098.dcm:   0%|             | 0.00/200k [00:00<?, ? Bytes/s]\u001b[A\n",
      "Total:  66%|█████████████████▏        | 19.6M/29.6M [05:20<02:43, 61.3k Bytes/s]\u001b[A\n",
      "Get MRIS/dic .. 005-0099.dcm:   0%|             | 0.00/200k [00:00<?, ? Bytes/s]\u001b[A\n",
      "Total:  67%|█████████████████▍        | 19.8M/29.6M [05:50<02:53, 56.6k Bytes/s]\u001b[A\n",
      "Get MRIS/dic .. 005-0100.dcm:   0%|             | 0.00/200k [00:00<?, ? Bytes/s]\u001b[A\n",
      "Total:  68%|█████████████████▌        | 20.0M/29.6M [05:52<02:49, 56.8k Bytes/s]\u001b[A\n",
      "Get MRIS/dic .. 005-0101.dcm:   0%|             | 0.00/200k [00:00<?, ? Bytes/s]\u001b[A\n",
      "Total:  68%|█████████████████▋        | 20.2M/29.6M [05:54<02:45, 57.0k Bytes/s]\u001b[A\n",
      "Get MRIS/dic .. 005-0102.dcm:   0%|             | 0.00/200k [00:00<?, ? Bytes/s]\u001b[A\n",
      "Total:  69%|█████████████████▉        | 20.4M/29.6M [05:56<02:40, 57.3k Bytes/s]\u001b[A\n",
      "Get MRIS/dic .. 005-0103.dcm:   0%|             | 0.00/200k [00:00<?, ? Bytes/s]\u001b[A\n",
      "                                                                                \u001b[A\n",
      "Get MRIS/dic .. 005-0104.dcm:   0%|             | 0.00/200k [00:00<?, ? Bytes/s]\u001b[A\n",
      "Total:  70%|██████████████████▎       | 20.8M/29.6M [06:20<02:40, 54.8k Bytes/s]\u001b[A\n",
      "Get MRIS/dic .. 005-0105.dcm:   0%|             | 0.00/200k [00:00<?, ? Bytes/s]\u001b[A\n",
      "Total:  71%|██████████████████▍       | 21.0M/29.6M [07:03<02:53, 49.6k Bytes/s]\u001b[A\n",
      "Get MRIS/dic .. 005-0106.dcm:   0%|             | 0.00/200k [00:00<?, ? Bytes/s]\u001b[A\n",
      "Total:  72%|██████████████████▌       | 21.2M/29.6M [07:05<02:48, 49.9k Bytes/s]\u001b[A\n",
      "Get MRIS/dic .. 005-0107.dcm:   0%|             | 0.00/200k [00:00<?, ? Bytes/s]\u001b[A\n",
      "Total:  72%|██████████████████▊       | 21.4M/29.6M [07:07<02:43, 50.1k Bytes/s]\u001b[A\n",
      "Get MRIS/dic .. 005-0108.dcm:   0%|             | 0.00/200k [00:00<?, ? Bytes/s]\u001b[A\n",
      "Total:  73%|██████████████████▉       | 21.6M/29.6M [07:09<02:38, 50.4k Bytes/s]\u001b[A\n",
      "Get MRIS/dic .. 005-0109.dcm:   0%|             | 0.00/200k [00:00<?, ? Bytes/s]\u001b[A\n",
      "                                                                                \u001b[A\n",
      "Get MRIS/dic .. 005-0110.dcm:   0%|             | 0.00/200k [00:00<?, ? Bytes/s]\u001b[A\n",
      "Total:  74%|███████████████████▎      | 22.0M/29.6M [07:18<02:31, 50.2k Bytes/s]\u001b[A\n",
      "Get MRIS/dic .. 005-0111.dcm:   0%|             | 0.00/200k [00:00<?, ? Bytes/s]\u001b[A\n",
      "Total:  76%|███████████████████▋      | 22.4M/29.6M [07:25<02:23, 50.4k Bytes/s]\u001b[A\n",
      "Get MRIS/dic .. 005-0113.dcm:   0%|             | 0.00/200k [00:00<?, ? Bytes/s]\u001b[A\n",
      "                                                                                \u001b[A\n",
      "Get MRIS/dic .. 005-0114.dcm:   0%|             | 0.00/200k [00:00<?, ? Bytes/s]\u001b[A\n",
      "Total:  77%|████████████████████      | 22.8M/29.6M [07:28<02:13, 50.8k Bytes/s]\u001b[A\n",
      "Get MRIS/dic .. 005-0115.dcm:   0%|             | 0.00/200k [00:00<?, ? Bytes/s]\u001b[A\n",
      "                                                                                \u001b[A\n",
      "Get MRIS/dic .. 005-0116.dcm:   0%|             | 0.00/200k [00:00<?, ? Bytes/s]\u001b[A\n",
      "Total:  79%|████████████████████▌     | 23.4M/29.6M [07:36<02:01, 51.3k Bytes/s]\u001b[A\n",
      "Get MRIS/dic .. 005-0118.dcm:   0%|             | 0.00/200k [00:00<?, ? Bytes/s]\u001b[A\n",
      "                                                                                \u001b[A\n",
      "Get MRIS/dic .. 005-0119.dcm:   0%|             | 0.00/200k [00:00<?, ? Bytes/s]\u001b[A\n",
      "Total:  81%|█████████████████████     | 24.0M/29.6M [07:48<01:49, 51.2k Bytes/s]\u001b[A\n",
      "Get MRIS/dic .. 005-0121.dcm:   0%|             | 0.00/200k [00:00<?, ? Bytes/s]\u001b[A\n",
      "Total:  82%|█████████████████████▎    | 24.2M/29.6M [07:50<01:45, 51.5k Bytes/s]\u001b[A\n",
      "Get MRIS/dic .. 005-0122.dcm:   0%|             | 0.00/200k [00:00<?, ? Bytes/s]\u001b[A\n",
      "Total:  82%|█████████████████████▍    | 24.4M/29.6M [07:52<01:40, 51.7k Bytes/s]\u001b[A\n",
      "Get MRIS/dic .. 005-0123.dcm:   0%|             | 0.00/200k [00:00<?, ? Bytes/s]\u001b[A\n",
      "Total:  83%|█████████████████████▌    | 24.6M/29.6M [07:54<01:36, 51.9k Bytes/s]\u001b[A\n",
      "Get MRIS/dic .. 005-0124.dcm:   0%|             | 0.00/200k [00:00<?, ? Bytes/s]\u001b[A\n",
      "Total:  84%|█████████████████████▊    | 24.8M/29.6M [07:56<01:32, 52.1k Bytes/s]\u001b[A\n",
      "Get MRIS/dic .. 005-0125.dcm:   0%|             | 0.00/200k [00:00<?, ? Bytes/s]\u001b[A\n",
      "Total:  84%|█████████████████████▉    | 25.0M/29.6M [07:57<01:27, 52.4k Bytes/s]\u001b[A\n",
      "Get MRIS/dic .. 005-0126.dcm:   0%|             | 0.00/200k [00:00<?, ? Bytes/s]\u001b[A\n",
      "                                                                                \u001b[A\n",
      "Get MRIS/dic .. 005-0127.dcm:   0%|             | 0.00/200k [00:00<?, ? Bytes/s]\u001b[A\n",
      "Total:  86%|██████████████████████▎   | 25.4M/29.6M [08:01<01:19, 52.8k Bytes/s]\u001b[A\n",
      "Get MRIS/dic .. 005-0128.dcm:   0%|             | 0.00/200k [00:00<?, ? Bytes/s]\u001b[A\n",
      "                                                                                \u001b[A\n",
      "Get MRIS/dic .. 005-0129.dcm:   0%|             | 0.00/200k [00:00<?, ? Bytes/s]\u001b[A\n",
      "Total:  87%|██████████████████████▋   | 25.8M/29.6M [08:04<01:11, 53.3k Bytes/s]\u001b[A\n",
      "Get MRIS/dic .. 005-0130.dcm:   0%|             | 0.00/200k [00:00<?, ? Bytes/s]\u001b[A\n",
      "                                                                                \u001b[A\n",
      "Get MRIS/dic .. 005-0131.dcm:   0%|             | 0.00/200k [00:00<?, ? Bytes/s]\u001b[A\n",
      "Total:  89%|███████████████████████   | 26.2M/29.6M [08:08<01:03, 53.6k Bytes/s]\u001b[A\n",
      "Get MRIS/dic .. 005-0132.dcm:   0%|             | 0.00/200k [00:00<?, ? Bytes/s]\u001b[A\n",
      "                                                                                \u001b[A\n",
      "Get MRIS/dic .. 005-0133.dcm:   0%|             | 0.00/200k [00:00<?, ? Bytes/s]\u001b[A\n",
      "Total:  90%|███████████████████████▎  | 26.6M/29.6M [08:12<00:55, 54.1k Bytes/s]\u001b[A\n",
      "Get MRIS/dic .. 005-0135.dcm:   0%|             | 0.00/200k [00:00<?, ? Bytes/s]\u001b[A\n",
      "                                                                                \u001b[A\n",
      "Get MRIS/dic .. 005-0136.dcm:   0%|             | 0.00/200k [00:00<?, ? Bytes/s]\u001b[A\n",
      "Total:  92%|███████████████████████▉  | 27.2M/29.6M [08:17<00:43, 54.7k Bytes/s]\u001b[A\n",
      "Get MRIS/dic .. 005-0137.dcm:   0%|             | 0.00/200k [00:00<?, ? Bytes/s]\u001b[A\n",
      "                                                                                \u001b[A\n",
      "Get MRIS/dic .. 005-0139.dcm:   0%|             | 0.00/200k [00:00<?, ? Bytes/s]\u001b[A\n",
      "Total:  94%|████████████████████████▍ | 27.8M/29.6M [08:23<00:32, 55.2k Bytes/s]\u001b[A\n",
      "Get MRIS/dic .. 005-0140.dcm:   0%|             | 0.00/200k [00:00<?, ? Bytes/s]\u001b[A\n",
      "                                                                                \u001b[A\n",
      "Get MRIS/dic .. 005-0141.dcm:   0%|             | 0.00/200k [00:00<?, ? Bytes/s]\u001b[A\n",
      "                                                                                \u001b[A\n",
      "Get MRIS/dic .. 005-0142.dcm:   0%|             | 0.00/200k [00:00<?, ? Bytes/s]\u001b[A\n",
      "                                                                                \u001b[A\n",
      "Get MRIS/dic .. 005-0143.dcm:   0%|             | 0.00/200k [00:00<?, ? Bytes/s]\u001b[A\n",
      "Total:  97%|█████████████████████████ | 28.6M/29.6M [08:31<00:17, 55.9k Bytes/s]\u001b[A\n",
      "Get MRIS/dic .. 005-0144.dcm:   0%|             | 0.00/200k [00:00<?, ? Bytes/s]\u001b[A\n",
      "Get MRIS/dic .. 005-0144.dcm:  40%|█▉   | 79.9k/200k [00:00<00:00, 159k Bytes/s]\u001b[A\n",
      "                                                                                \u001b[A\n",
      "Get MRIS/dic .. 005-0145.dcm:   0%|             | 0.00/200k [00:00<?, ? Bytes/s]\u001b[A\n",
      "                                                                                \u001b[A\n",
      "Get MRIS/dic .. 005-0147.dcm:   0%|             | 0.00/200k [00:00<?, ? Bytes/s]\u001b[A\n",
      "Total:  99%|█████████████████████████▊| 29.4M/29.6M [08:50<00:03, 55.5k Bytes/s]\u001b[A\n",
      "Get MRIS/dic .. 005-0148.dcm:   0%|             | 0.00/200k [00:00<?, ? Bytes/s]\u001b[A\n",
      "\u001b[1;1mget\u001b[0m(\u001b[1;32mok\u001b[0m): MRIS/dicom/219/itbs/Bzero_verify_PA_17/IM-0005-0001.dcm (\u001b[1;35mfile\u001b[0m) [from origin...]\n",
      "\u001b[1;1mget\u001b[0m(\u001b[1;32mok\u001b[0m): MRIS/dicom/219/itbs/Bzero_verify_PA_17/IM-0005-0002.dcm (\u001b[1;35mfile\u001b[0m) [from origin...]\n",
      "\u001b[1;1mget\u001b[0m(\u001b[1;32mok\u001b[0m): MRIS/dicom/219/itbs/Bzero_verify_PA_17/IM-0005-0003.dcm (\u001b[1;35mfile\u001b[0m) [from origin...]\n",
      "\u001b[1;1mget\u001b[0m(\u001b[1;32mok\u001b[0m): MRIS/dicom/219/itbs/Bzero_verify_PA_17/IM-0005-0004.dcm (\u001b[1;35mfile\u001b[0m) [from origin...]\n",
      "\u001b[1;1mget\u001b[0m(\u001b[1;32mok\u001b[0m): MRIS/dicom/219/itbs/Bzero_verify_PA_17/IM-0005-0005.dcm (\u001b[1;35mfile\u001b[0m) [from origin...]\n",
      "\u001b[1;1mget\u001b[0m(\u001b[1;32mok\u001b[0m): MRIS/dicom/219/itbs/Bzero_verify_PA_17/IM-0005-0006.dcm (\u001b[1;35mfile\u001b[0m) [from origin...]\n",
      "\u001b[1;1mget\u001b[0m(\u001b[1;32mok\u001b[0m): MRIS/dicom/219/itbs/Bzero_verify_PA_17/IM-0005-0007.dcm (\u001b[1;35mfile\u001b[0m) [from origin...]\n",
      "\u001b[1;1mget\u001b[0m(\u001b[1;32mok\u001b[0m): MRIS/dicom/219/itbs/Bzero_verify_PA_17/IM-0005-0008.dcm (\u001b[1;35mfile\u001b[0m) [from origin...]\n",
      "\u001b[1;1mget\u001b[0m(\u001b[1;32mok\u001b[0m): MRIS/dicom/219/itbs/Bzero_verify_PA_17/IM-0005-0009.dcm (\u001b[1;35mfile\u001b[0m) [from origin...]\n",
      "\u001b[1;1mget\u001b[0m(\u001b[1;32mok\u001b[0m): MRIS/dicom/219/itbs/Bzero_verify_PA_17/IM-0005-0010.dcm (\u001b[1;35mfile\u001b[0m) [from origin...]\n",
      "  [138 similar messages have been suppressed; disable with datalad.ui.suppress-similar-results=off]\n",
      "\u001b[1;1mget\u001b[0m(\u001b[1;32mok\u001b[0m): MRIS/dicom/219/itbs/Bzero_verify_PA_17 (\u001b[1;35mdirectory\u001b[0m)\n",
      "action summary:\n",
      "  get (ok: 149)\n",
      "\u001b[0m"
     ]
    }
   ],
   "source": [
    "!datalad install https://datasets.datalad.org/repronim/heudiconv-tutorial-example\n",
    "!cd heudiconv-tutorial-example/MRIS/dicom/219/itbs && datalad get Bzero_verify_PA_17"
   ]
  },
  {
   "cell_type": "code",
   "execution_count": null,
   "metadata": {
    "vscode": {
     "languageId": "plaintext"
    }
   },
   "outputs": [],
   "source": [
    "from ipyniivue import AnyNiivue\n",
    "nv = AnyNiivue()\n",
    "nv.load_volumes([{\"path\": \"./ds000102/sub-08/anat/sub-08_T1w.nii.gz\"}])\n",
    "nv"
   ]
  },
  {
   "cell_type": "markdown",
   "metadata": {},
   "source": [
    "## Convert DICOMS to BIDS-formatted NIFTI\n",
    "\n",
    "### 1.1. Using dcm2niix (manual workflow)"
   ]
  },
  {
   "cell_type": "code",
   "execution_count": 10,
   "metadata": {
    "vscode": {
     "languageId": "plaintext"
    }
   },
   "outputs": [],
   "source": [
    "import lmod\n",
    "await lmod.load('dcm2niix/v1.0.20240202')"
   ]
  },
  {
   "cell_type": "code",
   "execution_count": 15,
   "metadata": {
    "vscode": {
     "languageId": "plaintext"
    }
   },
   "outputs": [
    {
     "name": "stdout",
     "output_type": "stream",
     "text": [
      "mkdir: cannot create directory ‘dcm2niix_bids’: File exists\n",
      "Chris Rorden's dcm2niiX version v1.0.20240202  (JP2:OpenJPEG) (JP-LS:CharLS) GCC8.4.0 x86-64 (64-bit Linux)\n",
      "Found 148 DICOM file(s)\n",
      "Convert 148 DICOM as ./dcm2niix_bids/Bzero_verify_PA_17_Bzero_verify_P-A_20180706110327_17 (128x128x74x2)\n",
      "Conversion required 5.090344 seconds (0.370856 for core code).\n"
     ]
    }
   ],
   "source": [
    "!mkdir dcm2niix_bids\n",
    "!dcm2niix n -o ./dcm2niix_bids ./heudiconv-tutorial-example/MRIS/dicom/219/itbs/Bzero_verify_PA_17"
   ]
  },
  {
   "cell_type": "markdown",
   "metadata": {},
   "source": [
    "### 1.2. Using bidscoin (automated workflow)"
   ]
  },
  {
   "cell_type": "code",
   "execution_count": 5,
   "metadata": {
    "vscode": {
     "languageId": "plaintext"
    }
   },
   "outputs": [],
   "source": [
    "await lmod.load('bidscoin/4.3.3')"
   ]
  },
  {
   "cell_type": "code",
   "execution_count": 7,
   "metadata": {},
   "outputs": [
    {
     "name": "stdout",
     "output_type": "stream",
     "text": [
      "\u001b[1;30mINFO\u001b[0m | \n",
      "\u001b[1;30mINFO\u001b[0m | -------------- START BIDSmapper ------------\n",
      "\u001b[1;30mINFO\u001b[0m | >>> bidsmapper sourcefolder=/data/books/workflows/dicoms-unsorted bidsfolder=/data/books/workflows/bidscoin_bidsmap bidsmap=bidsmap.yaml template=/home/jovyan/.bidscoin/4.3.3+qt5/templates/bidsmap_dccn.yaml plugins=[] subprefix=None sesprefix=None store=False force=False\n",
      "\u001b[1;30mINFO\u001b[0m | No existing bidsmap file found: /data/books/workflows/bidscoin_bidsmap/code/bidscoin/bidsmap.yaml\n",
      "\u001b[1;30mINFO\u001b[0m | Reading: /home/jovyan/.bidscoin/4.3.3+qt5/templates/bidsmap_dccn.yaml\n",
      "\u001b[1;30mINFO\u001b[0m | Checking the bidsmap run-items:\n",
      "\u001b[1;30mSUCCESS\u001b[0m | \u001b[1;32mAll datatypes and options in the template bidsmap are valid\u001b[0m\n",
      "\u001b[1;30mWARNING\u001b[0m | \u001b[33mNo subjects found in: /data/books/workflows/dicoms-unsorted/sub-*\u001b[0m\n",
      "\u001b[1;30mINFO\u001b[0m | Opening the bidseditor\n",
      "qt.qpa.xcb: could not connect to display \n",
      "qt.qpa.plugin: Could not load the Qt platform plugin \"xcb\" in \"\" even though it was found.\n",
      "This application failed to start because no Qt platform plugin could be initialized. Reinstalling the application may fix this problem.\n",
      "\n",
      "Available platform plugins are: eglfs, linuxfb, minimal, minimalegl, offscreen, vnc, wayland-egl, wayland, wayland-xcomposite-egl, wayland-xcomposite-glx, webgl, xcb.\n",
      "\n",
      "/cvmfs/neurodesk.ardc.edu.au/containers/bidscoin_4.3.3_20240716/bidsmapper: line 3: 26538 Aborted                 (core dumped) singularity --silent exec --cleanenv --env DISPLAY=$DISPLAY $neurodesk_singularity_opts --pwd \"$PWD\" /cvmfs/neurodesk.ardc.edu.au/containers/bidscoin_4.3.3_20240716/bidscoin_4.3.3_20240716.simg bidsmapper \"$@\"\n",
      "\u001b[1;30mINFO\u001b[0m | \n",
      "\u001b[1;30mINFO\u001b[0m | -------------- START BIDScoiner 4.3.3+qt5: BIDS 1.9.0 ------------\n",
      "\u001b[1;30mINFO\u001b[0m | >>> bidscoiner sourcefolder=/data/books/workflows/bidscoin_bidsmap bidsfolder=/data/books/workflows/bidscoin_bids participant=None force=False bidsmap=bidsmap.yaml\n",
      "\u001b[1;30mINFO\u001b[0m | Creating dataset description file: /data/books/workflows/bidscoin_bids/dataset_description.json\n",
      "\u001b[1;30mINFO\u001b[0m | Creating a template README file (adjust it to your needs): /data/books/workflows/bidscoin_bids/README\n",
      "\u001b[1;30mINFO\u001b[0m | No existing bidsmap file found: /data/books/workflows/bidscoin_bids/code/bidscoin/bidsmap.yaml\n",
      "\u001b[1;30mERROR\u001b[0m | \u001b[31mNo bidsmap file found in /data/books/workflows/bidscoin_bids. Please run the bidsmapper first and/or use the correct bidsfolder\u001b[0m\n"
     ]
    }
   ],
   "source": [
    "!dicomsort ./dicoms-unsorted\n",
    "!bidsmapper ./dicoms-unsorted ./bidscoin_bidsmap    # Scans your data and creates a study bidsmap\n",
    "!bidscoiner ./bidscoin_bidsmap ./bidscoin_bids    # Converts your data to BIDS using the study bidsmap"
   ]
  },
  {
   "cell_type": "markdown",
   "metadata": {},
   "source": [
    "### 1.3. Using HeuDiConv (automated workflow)\n",
    "\n",
    "heudiconv provides over 10 pre-created heuristics, which can be seen here .\r\n",
    "\r\n",
    "These heuristic files are documented in their code comments. Some of them, like convertall or ReproIn could be immediately reused and represent two ends of the spectrum in heuristics:- `\r\n",
    "\r\n",
    "conver`tall is very simple and does not automate anything – it is for a user to modify filenames in the prepared conversion table, and then rerun with -c dcm2nii- `x.\r\n",
    "\r\n",
    "r`eproin can be used fully automated, if original sequences were named according to its ReproIn convention."
   ]
  },
  {
   "cell_type": "code",
   "execution_count": 2,
   "metadata": {},
   "outputs": [],
   "source": [
    "await lmod.load('heudiconv/1.3.1')"
   ]
  },
  {
   "cell_type": "code",
   "execution_count": 16,
   "metadata": {},
   "outputs": [
    {
     "name": "stdout",
     "output_type": "stream",
     "text": [
      "INFO: Running heudiconv version 1.3.1 latest 1.3.2\n",
      "INFO: Analyzing 1716 dicoms\n",
      "Traceback (most recent call last):\n",
      "  File \"/opt/miniconda-py39_4.12.0/bin/heudiconv\", line 8, in <module>\n",
      "    sys.exit(main())\n",
      "  File \"/src/heudiconv/heudiconv/cli/run.py\", line 30, in main\n",
      "    workflow(**kwargs)\n",
      "  File \"/src/heudiconv/heudiconv/main.py\", line 410, in workflow\n",
      "    study_sessions = get_study_sessions(\n",
      "  File \"/src/heudiconv/heudiconv/parser.py\", line 221, in get_study_sessions\n",
      "    seqinfo_dict = group_dicoms_into_seqinfos(\n",
      "  File \"/src/heudiconv/heudiconv/dicoms.py\", line 338, in group_dicoms_into_seqinfos\n",
      "    mwinfo = validate_dicom(filename, dcmfilter)\n",
      "  File \"/src/heudiconv/heudiconv/dicoms.py\", line 171, in validate_dicom\n",
      "    mw = dw.wrapper_from_file(fl, force=True, stop_before_pixels=True)\n",
      "  File \"/opt/miniconda-py39_4.12.0/lib/python3.9/site-packages/nibabel/nicom/dicomwrappers.py\", line 59, in wrapper_from_file\n",
      "    with ImageOpener(file_like) as fobj:\n",
      "  File \"/opt/miniconda-py39_4.12.0/lib/python3.9/site-packages/nibabel/openers.py\", line 181, in __init__\n",
      "    self.fobj = opener(fileish, *args, **kwargs)\n",
      "FileNotFoundError: [Errno 2] No such file or directory: './heudiconv-tutorial-example/MRIS/dicom/219/itbs/DTI_30_DIRs_AP_15/IM-0003-0001.dcm'\n"
     ]
    }
   ],
   "source": [
    "!heudiconv -f convertall -s 219 -c dcm2niix -b -o ./heudiconv_bids --files ./heudiconv-tutorial-example/MRIS/dicom/"
   ]
  },
  {
   "cell_type": "markdown",
   "metadata": {},
   "source": [
    "## Process data\n",
    "\n",
    "### Brain extraction using FSL BET"
   ]
  },
  {
   "cell_type": "code",
   "execution_count": null,
   "metadata": {},
   "outputs": [],
   "source": [
    "await lmod.load('fsl/6.0.7.4')\n",
    "await lmod.list()"
   ]
  },
  {
   "cell_type": "code",
   "execution_count": null,
   "metadata": {},
   "outputs": [],
   "source": [
    "%% bash\n",
    "\n",
    "declare -a niifile=($(find \"$PWD\" -type f -iname \"*.nii\"));\n",
    "for filename in \"${niifile[@]}\";\n",
    "    do \n",
    "        echo ${filename}\n",
    "        echo \"running BET\"\n",
    "        bet ${filename}.nii ${filename%.*}_brain\n",
    "    done"
   ]
  },
  {
   "cell_type": "markdown",
   "metadata": {},
   "source": [
    "### Deface"
   ]
  },
  {
   "cell_type": "markdown",
   "metadata": {},
   "source": [
    "## Share your data to OpenNeuro\n"
   ]
  },
  {
   "cell_type": "code",
   "execution_count": null,
   "metadata": {},
   "outputs": [],
   "source": []
  }
 ],
 "metadata": {
  "kernelspec": {
   "display_name": "Python 3 (ipykernel)",
   "language": "python",
   "name": "python3"
  },
  "language_info": {
   "codemirror_mode": {
    "name": "ipython",
    "version": 3
   },
   "file_extension": ".py",
   "mimetype": "text/x-python",
   "name": "python",
   "nbconvert_exporter": "python",
   "pygments_lexer": "ipython3",
   "version": "3.11.6"
  }
 },
 "nbformat": 4,
 "nbformat_minor": 4
}
